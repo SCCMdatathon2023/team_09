{
 "cells": [
  {
   "cell_type": "markdown",
   "metadata": {},
   "source": [
    "# Team 9"
   ]
  },
  {
   "cell_type": "markdown",
   "metadata": {},
   "source": [
    "**Members:**\n",
    "\n",
    "Adrien Carrel, MSc, Meng; Tien \"Amy\" Bui; Yugang Jia; Lasse Hansen; Damien Archbold; Ivor S. Douglas, MD, FRCP (UK); Peter E. Morris, MD\n",
    "\n",
    "**Repository:**\n",
    "\n",
    "Here is the [link to our GitHub repository](https://github.com/SCCMdatathon2023/team_09)\n",
    "\n",
    "**Subject:**\n",
    "\n",
    "What are the trajectories of critical illness in COVID-19? How are social determinants of health factors represented among them? Is there an association between these observed trajectories and race?\n",
    "\n",
    "**Research Question:**\n",
    "\n",
    "TODO"
   ]
  },
  {
   "cell_type": "markdown",
   "metadata": {},
   "source": [
    "## Methodology"
   ]
  },
  {
   "cell_type": "markdown",
   "metadata": {},
   "source": [
    "Add our methodology, research plans, equations, models used, why this research question is relevant, etc"
   ]
  },
  {
   "cell_type": "markdown",
   "metadata": {},
   "source": [
    "TODO"
   ]
  },
  {
   "cell_type": "markdown",
   "metadata": {},
   "source": [
    "Add some data analysis"
   ]
  },
  {
   "cell_type": "code",
   "execution_count": 1,
   "metadata": {},
   "outputs": [],
   "source": [
    "# TODO"
   ]
  },
  {
   "cell_type": "markdown",
   "metadata": {},
   "source": [
    "## Code"
   ]
  },
  {
   "cell_type": "markdown",
   "metadata": {},
   "source": [
    "### Load our Team9 object"
   ]
  },
  {
   "cell_type": "markdown",
   "metadata": {},
   "source": [
    "Load our functions and models"
   ]
  },
  {
   "cell_type": "code",
   "execution_count": null,
   "metadata": {},
   "outputs": [],
   "source": [
    "from utils import Team9\n",
    "\n",
    "\n",
    "config = {\n",
    "    id_name=\"id\",\n",
    "    label=\"covid\",\n",
    "    feat_timevarying=[\"ph\", \"lab1\", \"lab2\"],\n",
    "    feat_static=[\"race\", \"age\", \"bmi\"],\n",
    "    metric=\"dtw\",  # dynamic time warping\n",
    "    K_time=5,\n",
    "    fillna_strategy=\"fill_forward\",\n",
    "    tte_name=None,\n",
    "    time_name=None,\n",
    "    seed=42,\n",
    "    test_size=0.2,\n",
    "    is_bigquery=False,\n",
    "    query_or_path=\"./\",\n",
    "}\n",
    "project = Team9(**config)"
   ]
  },
  {
   "cell_type": "markdown",
   "metadata": {},
   "source": [
    "### Exploratory Data Analysis (EDA)"
   ]
  },
  {
   "cell_type": "markdown",
   "metadata": {},
   "source": [
    "EDA to analyse our dataset"
   ]
  },
  {
   "cell_type": "code",
   "execution_count": null,
   "metadata": {},
   "outputs": [],
   "source": [
    "df = project.df\n",
    "# TODO EDA"
   ]
  },
  {
   "cell_type": "markdown",
   "metadata": {},
   "source": [
    "### Clustering and Analysis"
   ]
  },
  {
   "cell_type": "markdown",
   "metadata": {},
   "source": [
    "Execute our pipeline"
   ]
  },
  {
   "cell_type": "code",
   "execution_count": null,
   "metadata": {},
   "outputs": [],
   "source": [
    "# Train clustering\n",
    "project.run_clustering()\n"
   ]
  },
  {
   "cell_type": "code",
   "execution_count": null,
   "metadata": {},
   "outputs": [],
   "source": [
    "# Run some analysis\n",
    "project.analyze_clusters()\n"
   ]
  }
 ],
 "metadata": {
  "kernelspec": {
   "display_name": "base",
   "language": "python",
   "name": "python3"
  },
  "language_info": {
   "codemirror_mode": {
    "name": "ipython",
    "version": 3
   },
   "file_extension": ".py",
   "mimetype": "text/x-python",
   "name": "python",
   "nbconvert_exporter": "python",
   "pygments_lexer": "ipython3",
   "version": "3.10.10"
  },
  "orig_nbformat": 4
 },
 "nbformat": 4,
 "nbformat_minor": 2
}
